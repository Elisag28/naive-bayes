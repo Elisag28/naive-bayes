{
    "cells": [
        {
            "cell_type": "markdown",
            "metadata": {},
            "source": [
                "# Explore here"
            ]
        },
        {
            "cell_type": "code",
            "execution_count": 3,
            "metadata": {},
            "outputs": [],
            "source": [
                "import numpy as np\n",
                "import pandas as pd\n",
                "import re\n",
                "import contractions\n",
                "from sklearn.feature_extraction.text import CountVectorizer\n",
                "from sklearn.model_selection import train_test_split\n",
                "from sklearn.metrics import accuracy_score, classification_report\n",
                "from sklearn.naive_bayes import BernoulliNB, MultinomialNB\n",
                "from sklearn.model_selection import GridSearchCV"
            ]
        },
        {
            "cell_type": "code",
            "execution_count": 4,
            "metadata": {},
            "outputs": [],
            "source": [
                "# Load csv\n",
                "reviews_data = pd.read_csv('https://raw.githubusercontent.com/4GeeksAcademy/naive-bayes-project-tutorial/main/playstore_reviews.csv')"
            ]
        },
        {
            "cell_type": "code",
            "execution_count": 5,
            "metadata": {},
            "outputs": [
                {
                    "name": "stdout",
                    "output_type": "stream",
                    "text": [
                        "<class 'pandas.core.frame.DataFrame'>\n",
                        "RangeIndex: 891 entries, 0 to 890\n",
                        "Data columns (total 3 columns):\n",
                        " #   Column        Non-Null Count  Dtype \n",
                        "---  ------        --------------  ----- \n",
                        " 0   package_name  891 non-null    object\n",
                        " 1   review        891 non-null    object\n",
                        " 2   polarity      891 non-null    int64 \n",
                        "dtypes: int64(1), object(2)\n",
                        "memory usage: 21.0+ KB\n"
                    ]
                }
            ],
            "source": [
                "reviews_data.info()"
            ]
        },
        {
            "cell_type": "code",
            "execution_count": 6,
            "metadata": {},
            "outputs": [
                {
                    "data": {
                        "text/html": [
                            "<div>\n",
                            "<style scoped>\n",
                            "    .dataframe tbody tr th:only-of-type {\n",
                            "        vertical-align: middle;\n",
                            "    }\n",
                            "\n",
                            "    .dataframe tbody tr th {\n",
                            "        vertical-align: top;\n",
                            "    }\n",
                            "\n",
                            "    .dataframe thead th {\n",
                            "        text-align: right;\n",
                            "    }\n",
                            "</style>\n",
                            "<table border=\"1\" class=\"dataframe\">\n",
                            "  <thead>\n",
                            "    <tr style=\"text-align: right;\">\n",
                            "      <th></th>\n",
                            "      <th>review</th>\n",
                            "      <th>polarity</th>\n",
                            "    </tr>\n",
                            "  </thead>\n",
                            "  <tbody>\n",
                            "    <tr>\n",
                            "      <th>0</th>\n",
                            "      <td>privacy at least put some option appear offli...</td>\n",
                            "      <td>0</td>\n",
                            "    </tr>\n",
                            "    <tr>\n",
                            "      <th>1</th>\n",
                            "      <td>messenger issues ever since the last update, ...</td>\n",
                            "      <td>0</td>\n",
                            "    </tr>\n",
                            "    <tr>\n",
                            "      <th>2</th>\n",
                            "      <td>profile any time my wife or anybody has more ...</td>\n",
                            "      <td>0</td>\n",
                            "    </tr>\n",
                            "    <tr>\n",
                            "      <th>3</th>\n",
                            "      <td>the new features suck for those of us who don...</td>\n",
                            "      <td>0</td>\n",
                            "    </tr>\n",
                            "    <tr>\n",
                            "      <th>4</th>\n",
                            "      <td>forced reload on uploading pic on replying co...</td>\n",
                            "      <td>0</td>\n",
                            "    </tr>\n",
                            "  </tbody>\n",
                            "</table>\n",
                            "</div>"
                        ],
                        "text/plain": [
                            "                                              review  polarity\n",
                            "0   privacy at least put some option appear offli...         0\n",
                            "1   messenger issues ever since the last update, ...         0\n",
                            "2   profile any time my wife or anybody has more ...         0\n",
                            "3   the new features suck for those of us who don...         0\n",
                            "4   forced reload on uploading pic on replying co...         0"
                        ]
                    },
                    "execution_count": 6,
                    "metadata": {},
                    "output_type": "execute_result"
                }
            ],
            "source": [
                "reviews_data = reviews_data.drop('package_name', axis= 1)\n",
                "reviews_data.head()"
            ]
        },
        {
            "cell_type": "code",
            "execution_count": 7,
            "metadata": {},
            "outputs": [
                {
                    "name": "stdout",
                    "output_type": "stream",
                    "text": [
                        "                                              review  polarity\n",
                        "0  privacy at least put some option appear offlin...         0\n",
                        "1  messenger issues ever since the last update in...         0\n",
                        "2  profile any time my wife or anybody has more t...         0\n",
                        "3  the new features suck for those of us who do n...         0\n",
                        "4  forced reload on uploading pic on replying com...         0\n",
                        "5  i do not know i cannot edit my posts things su...         0\n",
                        "6  major flaws constant updates and always gettin...         0\n",
                        "7  video issues since i was forced into this upda...         0\n",
                        "8  this update completely destroyed my facebook i...         0\n",
                        "9  posting issues for the last week there is been...         0\n"
                    ]
                }
            ],
            "source": [
                "reviews_data[\"review\"] = reviews_data[\"review\"].str.strip().str.lower()\n",
                "reviews_data[\"review\"] = reviews_data[\"review\"].apply(contractions.fix)\n",
                "reviews_data[\"review\"] = reviews_data['review'].apply(lambda x: re.sub(r'[^a-zA-Z0-9\\s]', '', x))\n",
                "print(reviews_data.head(10))"
            ]
        },
        {
            "cell_type": "code",
            "execution_count": 8,
            "metadata": {},
            "outputs": [
                {
                    "data": {
                        "text/plain": [
                            "309    video capture for moment where did video momen...\n",
                            "469    help me out i am not able to send or receive a...\n",
                            "593    makes life better evernote has saved my bacon ...\n",
                            "62     following back it does not let me follow peopl...\n",
                            "500    very useful thank god i can finally reply fast...\n",
                            "Name: review, dtype: object"
                        ]
                    },
                    "execution_count": 8,
                    "metadata": {},
                    "output_type": "execute_result"
                }
            ],
            "source": [
                "X = reviews_data['review']\n",
                "y = reviews_data['polarity']\n",
                "\n",
                "X_train, X_test, y_train, y_test = train_test_split(X, y, test_size=0.2, random_state=28)\n",
                "X_train.head()"
            ]
        },
        {
            "cell_type": "code",
            "execution_count": 9,
            "metadata": {},
            "outputs": [],
            "source": [
                "vec_model = CountVectorizer(stop_words = \"english\")\n",
                "\n",
                "X_train = vec_model.fit_transform(X_train)\n",
                "X_test = vec_model.transform(X_test)"
            ]
        },
        {
            "cell_type": "code",
            "execution_count": 10,
            "metadata": {},
            "outputs": [
                {
                    "data": {
                        "text/plain": [
                            "(712, 3375)"
                        ]
                    },
                    "execution_count": 10,
                    "metadata": {},
                    "output_type": "execute_result"
                }
            ],
            "source": [
                "X_train.shape"
            ]
        },
        {
            "cell_type": "code",
            "execution_count": 11,
            "metadata": {},
            "outputs": [
                {
                    "data": {
                        "text/plain": [
                            "array(['000', '10', '100', ..., 'zespole', 'zoom', 'zooming'],\n",
                            "      dtype=object)"
                        ]
                    },
                    "execution_count": 11,
                    "metadata": {},
                    "output_type": "execute_result"
                }
            ],
            "source": [
                "# Obtain the characteristics\n",
                "characteristics = vec_model.get_feature_names_out()\n",
                "characteristics\n"
            ]
        },
        {
            "cell_type": "markdown",
            "metadata": {},
            "source": [
                "Train the model"
            ]
        },
        {
            "cell_type": "code",
            "execution_count": 12,
            "metadata": {},
            "outputs": [],
            "source": [
                "model_nb = MultinomialNB()\n",
                "model_nb.fit(X_train, y_train)\n",
                "\n",
                "y_pred = model_nb.predict(X_test)"
            ]
        },
        {
            "cell_type": "code",
            "execution_count": 13,
            "metadata": {},
            "outputs": [
                {
                    "name": "stdout",
                    "output_type": "stream",
                    "text": [
                        "Accuracy: 0.8268156424581006\n",
                        "Classification Report:\n",
                        "               precision    recall  f1-score   support\n",
                        "\n",
                        "           0       0.86      0.92      0.89       133\n",
                        "           1       0.70      0.57      0.63        46\n",
                        "\n",
                        "    accuracy                           0.83       179\n",
                        "   macro avg       0.78      0.74      0.76       179\n",
                        "weighted avg       0.82      0.83      0.82       179\n",
                        "\n"
                    ]
                }
            ],
            "source": [
                "accuracy = accuracy_score(y_test, y_pred)\n",
                "report = classification_report(y_test, y_pred)\n",
                "\n",
                "print(\"Accuracy:\", accuracy)\n",
                "print(\"Classification Report:\\n\", report)"
            ]
        },
        {
            "cell_type": "markdown",
            "metadata": {},
            "source": [
                "Optimize hyperparameters"
            ]
        },
        {
            "cell_type": "code",
            "execution_count": 14,
            "metadata": {},
            "outputs": [
                {
                    "name": "stdout",
                    "output_type": "stream",
                    "text": [
                        "Grid search best params: {'alpha': 8.242964824120603, 'class_prior': [0.3, 0.7], 'fit_prior': True, 'force_alpha': True}\n"
                    ]
                }
            ],
            "source": [
                "model_grid = MultinomialNB()\n",
                "\n",
                "param_grid = {\n",
                "    'force_alpha': [True, False],\n",
                "    'alpha': np.linspace(0.01, 10.0, 200),\n",
                "    'fit_prior': [True, False],\n",
                "    'class_prior': [None, [0.5, 0.5], [0.3, 0.7], [0.2, 0.8], [0.1, 0.9]],\n",
                "}\n",
                "\n",
                "grid_search = GridSearchCV(model_grid, param_grid, cv=5, scoring='accuracy')\n",
                "\n",
                "grid_search.fit(X_train, y_train)\n",
                "print(f'Grid search best params: {grid_search.best_params_}')"
            ]
        },
        {
            "cell_type": "code",
            "execution_count": 15,
            "metadata": {},
            "outputs": [],
            "source": [
                "model_grid_nb = MultinomialNB(alpha = 8.242964824120603, class_prior = [0.3, 0.7], fit_prior = True, force_alpha = True)\n",
                "model_grid_nb.fit(X_train, y_train)\n",
                "\n",
                "y_pred_grid = model_grid_nb.predict(X_test)"
            ]
        },
        {
            "cell_type": "code",
            "execution_count": 16,
            "metadata": {},
            "outputs": [
                {
                    "name": "stdout",
                    "output_type": "stream",
                    "text": [
                        "New accuracy: 0.8268156424581006\n",
                        "New classification Report:\n",
                        "               precision    recall  f1-score   support\n",
                        "\n",
                        "           0       0.86      0.92      0.89       133\n",
                        "           1       0.70      0.57      0.63        46\n",
                        "\n",
                        "    accuracy                           0.83       179\n",
                        "   macro avg       0.78      0.74      0.76       179\n",
                        "weighted avg       0.82      0.83      0.82       179\n",
                        "\n"
                    ]
                }
            ],
            "source": [
                "accuracy_grid = accuracy_score(y_test, y_pred)\n",
                "report_grid = classification_report(y_test, y_pred)\n",
                "\n",
                "print(\"New accuracy:\", accuracy_grid)\n",
                "print(\"New classification Report:\\n\", report_grid)"
            ]
        },
        {
            "cell_type": "markdown",
            "metadata": {},
            "source": [
                "## Conclusion:\n",
                "After exploring other options, the multinomial was the best result."
            ]
        }
    ],
    "metadata": {
        "kernelspec": {
            "display_name": "Python 3.8.13 64-bit ('3.8.13')",
            "language": "python",
            "name": "python3"
        },
        "language_info": {
            "codemirror_mode": {
                "name": "ipython",
                "version": 3
            },
            "file_extension": ".py",
            "mimetype": "text/x-python",
            "name": "python",
            "nbconvert_exporter": "python",
            "pygments_lexer": "ipython3",
            "version": "3.12.0"
        },
        "orig_nbformat": 4,
        "vscode": {
            "interpreter": {
                "hash": "110cc1dee26208153f2972f08a2ad52b6a56238dc66d48e87fb757ef2996db56"
            }
        }
    },
    "nbformat": 4,
    "nbformat_minor": 2
}
